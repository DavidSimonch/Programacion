{
  "nbformat": 4,
  "nbformat_minor": 0,
  "metadata": {
    "colab": {
      "provenance": []
    },
    "kernelspec": {
      "name": "python3",
      "display_name": "Python 3"
    },
    "language_info": {
      "name": "python"
    }
  },
  "cells": [
    {
      "cell_type": "markdown",
      "source": [
        "Introduccion al lenguaje de Programacón.\n",
        "**1.3.1 Operaciones Aritmeticas.**"
      ],
      "metadata": {
        "id": "3FyeTxcZ3HWs"
      }
    },
    {
      "cell_type": "code",
      "source": [
        "# Ejercicio 1: Conversor de Celsius a Farenheiet.\n",
        "\n",
        "celsius = 27\n",
        "fahrenheit = (celsius * 9/5) + 32\n",
        "print(fahrenheit, \"F\")"
      ],
      "metadata": {
        "colab": {
          "base_uri": "https://localhost:8080/"
        },
        "id": "GX5metjP3jHg",
        "outputId": "15df646e-c4f6-4de7-f151-4b2f8781c563"
      },
      "execution_count": null,
      "outputs": [
        {
          "output_type": "stream",
          "name": "stdout",
          "text": [
            "80.6 F\n"
          ]
        }
      ]
    },
    {
      "cell_type": "code",
      "source": [
        "# Ejercicio 2: Calculo de la masa.\n",
        "\n",
        "masa = 50\n",
        "gravedad = 9.8\n",
        "fuerza = masa * gravedad\n",
        "print(fuerza, \"N\")"
      ],
      "metadata": {
        "colab": {
          "base_uri": "https://localhost:8080/"
        },
        "id": "yKboLlPK4EvX",
        "outputId": "8a585b18-d147-40f2-dba4-63b8e8c664e1"
      },
      "execution_count": null,
      "outputs": [
        {
          "output_type": "stream",
          "name": "stdout",
          "text": [
            "490.00000000000006 N\n"
          ]
        }
      ]
    },
    {
      "cell_type": "code",
      "source": [
        "# Ejercicio 3 : Conversor de Celsius a Kelvin.\n",
        "\n",
        "celsius = 30\n",
        "kelvin = celsius + 273.15\n",
        "print(kelvin, \"K\")"
      ],
      "metadata": {
        "colab": {
          "base_uri": "https://localhost:8080/"
        },
        "id": "hUBhQuYA5Ya0",
        "outputId": "1d5d98ba-108d-4860-de8e-0b6fa39a9174"
      },
      "execution_count": null,
      "outputs": [
        {
          "output_type": "stream",
          "name": "stdout",
          "text": [
            "303.15 K\n"
          ]
        }
      ]
    },
    {
      "cell_type": "code",
      "source": [
        "# Ejerccio 4 : Calculo de diametro.\n",
        "\n",
        "radio = 5\n",
        "diametro = radio * 2\n",
        "print(diametro, \"m\")"
      ],
      "metadata": {
        "colab": {
          "base_uri": "https://localhost:8080/"
        },
        "id": "WvA9MMV49Hg_",
        "outputId": "5f036943-f798-44c8-9692-5dacfede0ed7"
      },
      "execution_count": null,
      "outputs": [
        {
          "output_type": "stream",
          "name": "stdout",
          "text": [
            "10 m\n"
          ]
        }
      ]
    },
    {
      "cell_type": "code",
      "source": [
        "# Ejercico 5 : Area de un de cuadrado\n",
        "\n",
        "area = 5 * 5\n",
        "print(area, \"m2\")"
      ],
      "metadata": {
        "colab": {
          "base_uri": "https://localhost:8080/"
        },
        "id": "NaPK5HUInzi9",
        "outputId": "6dd50eb8-b579-4ade-b718-6e5e638a581a"
      },
      "execution_count": null,
      "outputs": [
        {
          "output_type": "stream",
          "name": "stdout",
          "text": [
            "25 m2\n"
          ]
        }
      ]
    },
    {
      "cell_type": "markdown",
      "source": [
        "Operaciones Relacionales:"
      ],
      "metadata": {
        "id": "hzVMEDVB4g2w"
      }
    },
    {
      "cell_type": "code",
      "source": [
        "if celsius > 30:\n",
        "    print(\"Hace calor saquenme de aqui\")\n",
        "else:\n",
        "  print(\"No hace nada de calor!\")"
      ],
      "metadata": {
        "colab": {
          "base_uri": "https://localhost:8080/"
        },
        "id": "iltLSfom4nFD",
        "outputId": "5565ea29-7212-4110-fcbe-f5a13e76c518"
      },
      "execution_count": null,
      "outputs": [
        {
          "output_type": "stream",
          "name": "stdout",
          "text": [
            "No hace nada de calor!\n"
          ]
        }
      ]
    },
    {
      "cell_type": "code",
      "source": [
        "# Modificación de una variable.\n",
        "\n",
        "celsius = 31\n",
        "if celsius > 30:\n",
        "    print(\"Hace calor saquenme de aqui!!\")"
      ],
      "metadata": {
        "colab": {
          "base_uri": "https://localhost:8080/"
        },
        "id": "9gfUYPlf4ywV",
        "outputId": "da80a893-3401-4c23-88e9-070e742a5720"
      },
      "execution_count": null,
      "outputs": [
        {
          "output_type": "stream",
          "name": "stdout",
          "text": [
            "Hace calor saquenme de aqui!!\n"
          ]
        }
      ]
    },
    {
      "cell_type": "code",
      "source": [
        "# Combinación de Operaciones Logicos.\n",
        "\n",
        "# Uso de operadores logicos.\n",
        "\n",
        "if celsius >= 31 and  diametro == 10:\n",
        "    print(\"El cudrado del infierno !!\")"
      ],
      "metadata": {
        "colab": {
          "base_uri": "https://localhost:8080/"
        },
        "id": "wOuJJa4f49t_",
        "outputId": "412d7f72-799f-4cea-d21b-e8aae8dbe845"
      },
      "execution_count": null,
      "outputs": [
        {
          "output_type": "stream",
          "name": "stdout",
          "text": [
            "El cudrado del infierno !!\n"
          ]
        }
      ]
    },
    {
      "cell_type": "markdown",
      "source": [
        "Implementando Funciones:\n",
        "\n",
        "\n",
        "\n",
        "*   Problema de Fizz Buzz\n",
        "*   Incorporacion de varios tipos de operadores.\n",
        "*   Implementación de estructuras de control.\n",
        "*   Ciclos for, while, do while.\n",
        "*   Ciclos anidados.\n",
        "\n"
      ],
      "metadata": {
        "id": "GK4JB94epq4P"
      }
    },
    {
      "cell_type": "code",
      "source": [
        "#Creación del rango de números:\n",
        "\n",
        "ejemplo =  range(1, 101)"
      ],
      "metadata": {
        "id": "yTRuv0fpqBoX"
      },
      "execution_count": null,
      "outputs": []
    },
    {
      "cell_type": "code",
      "source": [
        "def fizz_buzz(ejemplo):\n",
        "# Usando for loop:\n",
        "  for i in ejemplo:\n",
        "    input = i\n",
        "    if input % 3 == 0 and input % 5 == 0:\n",
        "      print(\"FizzBuzz\")\n",
        "    elif input % 3 == 0:\n",
        "      print(\"Fizz\")\n",
        "    elif input % 5 == 0:\n",
        "      print(\"Buzz\")\n"
      ],
      "metadata": {
        "id": "NySMUEcyp7EG"
      },
      "execution_count": null,
      "outputs": []
    },
    {
      "cell_type": "code",
      "source": [
        "fizz_buzz(ejemplo)"
      ],
      "metadata": {
        "colab": {
          "base_uri": "https://localhost:8080/"
        },
        "id": "JsAGNZM6qpS0",
        "outputId": "7e6b4b87-fb16-414f-8abd-c962823fa9eb"
      },
      "execution_count": null,
      "outputs": [
        {
          "output_type": "stream",
          "name": "stdout",
          "text": [
            "Fizz\n",
            "Buzz\n",
            "Fizz\n",
            "Fizz\n",
            "Buzz\n",
            "Fizz\n",
            "FizzBuzz\n",
            "Fizz\n",
            "Buzz\n",
            "Fizz\n",
            "Fizz\n",
            "Buzz\n",
            "Fizz\n",
            "FizzBuzz\n",
            "Fizz\n",
            "Buzz\n",
            "Fizz\n",
            "Fizz\n",
            "Buzz\n",
            "Fizz\n",
            "FizzBuzz\n",
            "Fizz\n",
            "Buzz\n",
            "Fizz\n",
            "Fizz\n",
            "Buzz\n",
            "Fizz\n",
            "FizzBuzz\n",
            "Fizz\n",
            "Buzz\n",
            "Fizz\n",
            "Fizz\n",
            "Buzz\n",
            "Fizz\n",
            "FizzBuzz\n",
            "Fizz\n",
            "Buzz\n",
            "Fizz\n",
            "Fizz\n",
            "Buzz\n",
            "Fizz\n",
            "FizzBuzz\n",
            "Fizz\n",
            "Buzz\n",
            "Fizz\n",
            "Fizz\n",
            "Buzz\n"
          ]
        }
      ]
    },
    {
      "cell_type": "markdown",
      "source": [
        "Uso de mas Estructuras de Control."
      ],
      "metadata": {
        "id": "1o3GrbdmskZ-"
      }
    },
    {
      "cell_type": "code",
      "source": [
        "def impresion_de_numeros(ejemplo):\n",
        "  while ejemplo > 0:\n",
        "    print(ejemplo)\n",
        "    ejemplo -= 1"
      ],
      "metadata": {
        "id": "KpkB6jyKsj8U"
      },
      "execution_count": null,
      "outputs": []
    },
    {
      "cell_type": "code",
      "source": [
        "impresion_de_numeros(10)"
      ],
      "metadata": {
        "colab": {
          "base_uri": "https://localhost:8080/"
        },
        "id": "iaNS7wZquzEs",
        "outputId": "2b52f965-69f3-4ad8-c1cc-2132910ee678"
      },
      "execution_count": null,
      "outputs": [
        {
          "output_type": "stream",
          "name": "stdout",
          "text": [
            "10\n",
            "9\n",
            "8\n",
            "7\n",
            "6\n",
            "5\n",
            "4\n",
            "3\n",
            "2\n",
            "1\n"
          ]
        }
      ]
    },
    {
      "cell_type": "markdown",
      "source": [
        "Funcion de encriptacion de mensaje."
      ],
      "metadata": {
        "id": "Q8pOZBUWvTes"
      }
    },
    {
      "cell_type": "code",
      "source": [
        "def cipher(message, shift):\n",
        "  letters = \"abcdefghijklmnopqrstuvwxyz\"\n",
        "  output = \"\"\n",
        "  for letter in message:\n",
        "    if letter in letters:\n",
        "      letter_index = (letters.index(letter) + shift) % 26\n",
        "      output = output + letters[letter_index]\n",
        "    else:\n",
        "      output = output + letter\n",
        "  return output"
      ],
      "metadata": {
        "id": "17VpbAdFvZeV"
      },
      "execution_count": null,
      "outputs": []
    },
    {
      "cell_type": "code",
      "source": [
        "cipher(\"Hola Mundo\", 1)"
      ],
      "metadata": {
        "colab": {
          "base_uri": "https://localhost:8080/",
          "height": 35
        },
        "id": "74eyWfLPvjN1",
        "outputId": "04f40022-8e00-4ae0-d4c9-9580214bf6a8"
      },
      "execution_count": null,
      "outputs": [
        {
          "output_type": "execute_result",
          "data": {
            "text/plain": [
              "'Hpmb Mvoep'"
            ],
            "application/vnd.google.colaboratory.intrinsic+json": {
              "type": "string"
            }
          },
          "metadata": {},
          "execution_count": 40
        }
      ]
    },
    {
      "cell_type": "markdown",
      "source": [
        "Arreglos Unidimensinales."
      ],
      "metadata": {
        "id": "XfdEYR0NxAFn"
      }
    },
    {
      "cell_type": "code",
      "source": [
        "array = [1, 2, 3, 4, 5]\n",
        "\n",
        "calificaciones = [10, 10, 9, 0]"
      ],
      "metadata": {
        "id": "GUjmSP_Fw-z0"
      },
      "execution_count": null,
      "outputs": []
    },
    {
      "cell_type": "markdown",
      "source": [
        "Arreglos  de más dimensiones."
      ],
      "metadata": {
        "id": "FHQbeAMIxGu7"
      }
    },
    {
      "cell_type": "code",
      "source": [
        "multi_array = [[1, 2, 3], [4, 5, 6], [7, 8, 9]]"
      ],
      "metadata": {
        "id": "R4vxnF53xW3E"
      },
      "execution_count": null,
      "outputs": []
    },
    {
      "cell_type": "code",
      "source": [
        "def array_sum(array):\n",
        "  sum = 0\n",
        "  for element in array:\n",
        "    sum += element\n",
        "  return sum"
      ],
      "metadata": {
        "id": "IgClpsDbxjK3"
      },
      "execution_count": null,
      "outputs": []
    },
    {
      "cell_type": "code",
      "source": [
        "array_sum(array)"
      ],
      "metadata": {
        "colab": {
          "base_uri": "https://localhost:8080/"
        },
        "id": "829ViRvfxovG",
        "outputId": "c628e8f0-94a2-400e-c415-b173430a47f7"
      },
      "execution_count": null,
      "outputs": [
        {
          "output_type": "execute_result",
          "data": {
            "text/plain": [
              "15"
            ]
          },
          "metadata": {},
          "execution_count": 45
        }
      ]
    },
    {
      "cell_type": "markdown",
      "source": [],
      "metadata": {
        "id": "mTo-wgF90iRa"
      }
    },
    {
      "cell_type": "markdown",
      "source": [
        "Ejemplo de IMC usando regitros en array para paciente."
      ],
      "metadata": {
        "id": "8cTnUylwzJOu"
      }
    },
    {
      "cell_type": "code",
      "source": [
        "pacientes = []"
      ],
      "metadata": {
        "id": "Cz3gssUQz5F2"
      },
      "execution_count": null,
      "outputs": []
    },
    {
      "cell_type": "code",
      "source": [
        "pacientes += [[\"Juan\", 70, 1.75]]"
      ],
      "metadata": {
        "id": "m4f6Twk7zTR-"
      },
      "execution_count": null,
      "outputs": []
    },
    {
      "cell_type": "code",
      "source": [
        "#Ingreso de mas pacientes:\n",
        "\n",
        "pacientes += [[\"Maria\", 65, 1.65]]"
      ],
      "metadata": {
        "id": "GZZl9kiQzjI2"
      },
      "execution_count": null,
      "outputs": []
    },
    {
      "cell_type": "code",
      "source": [
        "print(pacientes)"
      ],
      "metadata": {
        "colab": {
          "base_uri": "https://localhost:8080/"
        },
        "id": "TENTszSEzw-U",
        "outputId": "8de74a75-20bc-49b9-8485-39bd68f25a14"
      },
      "execution_count": null,
      "outputs": [
        {
          "output_type": "stream",
          "name": "stdout",
          "text": [
            "[['Juan', 70, 1.75], ['Maria', 65, 1.65]]\n"
          ]
        }
      ]
    },
    {
      "cell_type": "code",
      "source": [
        "def calculo_imc(pacientes):\n",
        "  for paciente in pacientes:\n",
        "    nombre = paciente[0]\n",
        "    peso = paciente[1]\n",
        "    altura = paciente[2]\n",
        "    imc = peso / altura ** 2\n",
        "    print(nombre, \"tiene un IMC de\", imc)"
      ],
      "metadata": {
        "id": "8XIXH43Q0y-e"
      },
      "execution_count": null,
      "outputs": []
    },
    {
      "cell_type": "code",
      "source": [
        "calculo_imc(pacientes)"
      ],
      "metadata": {
        "colab": {
          "base_uri": "https://localhost:8080/"
        },
        "id": "tYTFesXP1GtD",
        "outputId": "cc8035b4-099c-47a4-9b93-87ff8522a709"
      },
      "execution_count": null,
      "outputs": [
        {
          "output_type": "stream",
          "name": "stdout",
          "text": [
            "Juan tiene un IMC de 22.857142857142858\n",
            "Maria tiene un IMC de 23.875114784205696\n"
          ]
        }
      ]
    },
    {
      "cell_type": "code",
      "source": [
        "#Ejemplo de la clase:\n",
        "\n",
        "#Automatizando el registro y almacenando.\n",
        "\n",
        "def calculo_imc():\n",
        "  global pacientes\n",
        "  nombre = input(\"Ingrese su nombre: \")\n",
        "  peso = float(input(\"Ingrese su peso: \"))\n",
        "  altura = float(input(\"Ingrese su altura: \"))\n",
        "  imc = peso / altura ** 2\n",
        "  registro = [nombre, peso, altura]\n",
        "\n",
        "  pacientes += [registro]\n",
        "  print(nombre, \"tiene un IMC de\", imc)\n"
      ],
      "metadata": {
        "id": "PwRL8hEiypAq"
      },
      "execution_count": null,
      "outputs": []
    },
    {
      "cell_type": "code",
      "source": [
        "calculo_imc()"
      ],
      "metadata": {
        "colab": {
          "base_uri": "https://localhost:8080/"
        },
        "id": "tz2nwRJd3boI",
        "outputId": "0050acbb-bee9-4b59-d484-b928d067d9ef"
      },
      "execution_count": null,
      "outputs": [
        {
          "output_type": "stream",
          "name": "stdout",
          "text": [
            "Ingrese su nombre: Luis\n",
            "Ingrese su peso: 72.1\n",
            "Ingrese su altura: 1.62\n",
            "Luis tiene un IMC de 27.472946197226026\n"
          ]
        }
      ]
    },
    {
      "cell_type": "code",
      "source": [
        "print(pacientes)"
      ],
      "metadata": {
        "colab": {
          "base_uri": "https://localhost:8080/"
        },
        "id": "abtU-gb-4dLw",
        "outputId": "d6cf18e0-7093-4a59-ffb9-23f4b918aed4"
      },
      "execution_count": null,
      "outputs": [
        {
          "output_type": "stream",
          "name": "stdout",
          "text": [
            "[['Juan', 70, 1.75], ['Maria', 65, 1.65], ['Joel', 77.7, 1.7], ['Luis', 72.1, 1.62]]\n"
          ]
        }
      ]
    },
    {
      "cell_type": "markdown",
      "source": [
        "Segundo Ejemplo de la clase:"
      ],
      "metadata": {
        "id": "0B2gnuoP4ZY8"
      }
    },
    {
      "cell_type": "code",
      "source": [
        "#Calcualr la masa del aire en el tunel del viento.\n",
        "\n",
        "v = float(input(\"Ingrese la velocidad del viento: \"))\n",
        "t = float(input(\"Ingrese la temperatura: \"))\n",
        "p = float(input(\"Ingrese la presion atmosferica: \"))\n",
        "pm = float(input(\"Ingrese la densidad del aire: \"))\n",
        "\n",
        "R = 8.314\n",
        "#Resolucion de operaciones\n",
        "#Calculamos Operaciones.\n",
        "\n",
        "n = (p*v)/(R*t)\n",
        "\n",
        "\n",
        "\n",
        "\n"
      ],
      "metadata": {
        "id": "HzTpgcbk4X95",
        "colab": {
          "base_uri": "https://localhost:8080/",
          "height": 356
        },
        "outputId": "0835f5bb-6821-4929-8006-c1d99f7763a4"
      },
      "execution_count": null,
      "outputs": [
        {
          "output_type": "error",
          "ename": "KeyboardInterrupt",
          "evalue": "Interrupted by user",
          "traceback": [
            "\u001b[0;31m---------------------------------------------------------------------------\u001b[0m",
            "\u001b[0;31mKeyboardInterrupt\u001b[0m                         Traceback (most recent call last)",
            "\u001b[0;32m<ipython-input-5-9f40700e3027>\u001b[0m in \u001b[0;36m<cell line: 3>\u001b[0;34m()\u001b[0m\n\u001b[1;32m      1\u001b[0m \u001b[0;31m#Calcualr la masa del aire en el tunel del viento.\u001b[0m\u001b[0;34m\u001b[0m\u001b[0;34m\u001b[0m\u001b[0m\n\u001b[1;32m      2\u001b[0m \u001b[0;34m\u001b[0m\u001b[0m\n\u001b[0;32m----> 3\u001b[0;31m \u001b[0mv\u001b[0m \u001b[0;34m=\u001b[0m \u001b[0mfloat\u001b[0m\u001b[0;34m(\u001b[0m\u001b[0minput\u001b[0m\u001b[0;34m(\u001b[0m\u001b[0;34m\"Ingrese la velocidad del viento: \"\u001b[0m\u001b[0;34m)\u001b[0m\u001b[0;34m)\u001b[0m\u001b[0;34m\u001b[0m\u001b[0;34m\u001b[0m\u001b[0m\n\u001b[0m\u001b[1;32m      4\u001b[0m \u001b[0mt\u001b[0m \u001b[0;34m=\u001b[0m \u001b[0mfloat\u001b[0m\u001b[0;34m(\u001b[0m\u001b[0minput\u001b[0m\u001b[0;34m(\u001b[0m\u001b[0;34m\"Ingrese la temperatura: \"\u001b[0m\u001b[0;34m)\u001b[0m\u001b[0;34m)\u001b[0m\u001b[0;34m\u001b[0m\u001b[0;34m\u001b[0m\u001b[0m\n\u001b[1;32m      5\u001b[0m \u001b[0mp\u001b[0m \u001b[0;34m=\u001b[0m \u001b[0mfloat\u001b[0m\u001b[0;34m(\u001b[0m\u001b[0minput\u001b[0m\u001b[0;34m(\u001b[0m\u001b[0;34m\"Ingrese la presion atmosferica: \"\u001b[0m\u001b[0;34m)\u001b[0m\u001b[0;34m)\u001b[0m\u001b[0;34m\u001b[0m\u001b[0;34m\u001b[0m\u001b[0m\n",
            "\u001b[0;32m/usr/local/lib/python3.10/dist-packages/ipykernel/kernelbase.py\u001b[0m in \u001b[0;36mraw_input\u001b[0;34m(self, prompt)\u001b[0m\n\u001b[1;32m    849\u001b[0m                 \u001b[0;34m\"raw_input was called, but this frontend does not support input requests.\"\u001b[0m\u001b[0;34m\u001b[0m\u001b[0;34m\u001b[0m\u001b[0m\n\u001b[1;32m    850\u001b[0m             )\n\u001b[0;32m--> 851\u001b[0;31m         return self._input_request(str(prompt),\n\u001b[0m\u001b[1;32m    852\u001b[0m             \u001b[0mself\u001b[0m\u001b[0;34m.\u001b[0m\u001b[0m_parent_ident\u001b[0m\u001b[0;34m,\u001b[0m\u001b[0;34m\u001b[0m\u001b[0;34m\u001b[0m\u001b[0m\n\u001b[1;32m    853\u001b[0m             \u001b[0mself\u001b[0m\u001b[0;34m.\u001b[0m\u001b[0m_parent_header\u001b[0m\u001b[0;34m,\u001b[0m\u001b[0;34m\u001b[0m\u001b[0;34m\u001b[0m\u001b[0m\n",
            "\u001b[0;32m/usr/local/lib/python3.10/dist-packages/ipykernel/kernelbase.py\u001b[0m in \u001b[0;36m_input_request\u001b[0;34m(self, prompt, ident, parent, password)\u001b[0m\n\u001b[1;32m    893\u001b[0m             \u001b[0;32mexcept\u001b[0m \u001b[0mKeyboardInterrupt\u001b[0m\u001b[0;34m:\u001b[0m\u001b[0;34m\u001b[0m\u001b[0;34m\u001b[0m\u001b[0m\n\u001b[1;32m    894\u001b[0m                 \u001b[0;31m# re-raise KeyboardInterrupt, to truncate traceback\u001b[0m\u001b[0;34m\u001b[0m\u001b[0;34m\u001b[0m\u001b[0m\n\u001b[0;32m--> 895\u001b[0;31m                 \u001b[0;32mraise\u001b[0m \u001b[0mKeyboardInterrupt\u001b[0m\u001b[0;34m(\u001b[0m\u001b[0;34m\"Interrupted by user\"\u001b[0m\u001b[0;34m)\u001b[0m \u001b[0;32mfrom\u001b[0m \u001b[0;32mNone\u001b[0m\u001b[0;34m\u001b[0m\u001b[0;34m\u001b[0m\u001b[0m\n\u001b[0m\u001b[1;32m    896\u001b[0m             \u001b[0;32mexcept\u001b[0m \u001b[0mException\u001b[0m \u001b[0;32mas\u001b[0m \u001b[0me\u001b[0m\u001b[0;34m:\u001b[0m\u001b[0;34m\u001b[0m\u001b[0;34m\u001b[0m\u001b[0m\n\u001b[1;32m    897\u001b[0m                 \u001b[0mself\u001b[0m\u001b[0;34m.\u001b[0m\u001b[0mlog\u001b[0m\u001b[0;34m.\u001b[0m\u001b[0mwarning\u001b[0m\u001b[0;34m(\u001b[0m\u001b[0;34m\"Invalid Message:\"\u001b[0m\u001b[0;34m,\u001b[0m \u001b[0mexc_info\u001b[0m\u001b[0;34m=\u001b[0m\u001b[0;32mTrue\u001b[0m\u001b[0;34m)\u001b[0m\u001b[0;34m\u001b[0m\u001b[0;34m\u001b[0m\u001b[0m\n",
            "\u001b[0;31mKeyboardInterrupt\u001b[0m: Interrupted by user"
          ]
        }
      ]
    },
    {
      "cell_type": "code",
      "source": [
        "def calculo_masa_aire():\n",
        "  v = float(input(\"Ingrese la velocidad del viento: \"))\n",
        "  t = float(input(\"Ingrese la temperatura: \"))\n",
        "  p = float(input(\"Ingrese la presion atmosferica: \"))\n",
        "  pm = float(input(\"Ingrese la densidad del aire: \"))\n",
        "  R = 8.314\n",
        "  n = (p*v)/(R*t)\n",
        "  masa_aire = n * pm\n",
        "  return masa_aire"
      ],
      "metadata": {
        "id": "qAocMskwyn9B"
      },
      "execution_count": null,
      "outputs": []
    },
    {
      "cell_type": "code",
      "source": [
        "calculo_masa_aire()\n"
      ],
      "metadata": {
        "colab": {
          "base_uri": "https://localhost:8080/"
        },
        "id": "Bt6dPk55y8Vn",
        "outputId": "b7f0a12a-59ae-454c-9562-492746d9b741"
      },
      "execution_count": null,
      "outputs": [
        {
          "name": "stdout",
          "output_type": "stream",
          "text": [
            "Ingrese la velocidad del viento: 4505\n",
            "Ingrese la temperatura: 243\n",
            "Ingrese la presion atmosferica: 123\n",
            "Ingrese la densidad del aire: 0.12\n"
          ]
        },
        {
          "output_type": "execute_result",
          "data": {
            "text/plain": [
              "32.91280214542182"
            ]
          },
          "metadata": {},
          "execution_count": 9
        }
      ]
    }
  ]
}